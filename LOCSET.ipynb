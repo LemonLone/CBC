{
 "cells": [
  {
   "cell_type": "code",
   "execution_count": 16,
   "metadata": {},
   "outputs": [],
   "source": [
    "import numpy as np\n",
    "import pandas as pd\n",
    "from math import sqrt\n",
    "import matplotlib as plt\n",
    "import os"
   ]
  },
  {
   "cell_type": "markdown",
   "metadata": {},
   "source": [
    "文件保存"
   ]
  },
  {
   "cell_type": "code",
   "execution_count": null,
   "metadata": {},
   "outputs": [],
   "source": [
    "results_dir = '/home/Cuihaitao/CBC/Results'\n",
    "\n",
    "# 获取Results文件夹下的所有文件和文件夹\n",
    "items = os.listdir(results_dir)\n",
    "print('items:', items)\n",
    "\n",
    "# 过滤出所有以'result'开头的文件夹，并按照数字顺序排序\n",
    "def sort_key(item):\n",
    "    return int(item.replace('result', ''))\n",
    "\n",
    "result_dirs = sorted([item for item in items if item.startswith('result') and os.path.isdir(os.path.join(results_dir, item))], key=sort_key)\n",
    "print('result_dirs is :',result_dirs)\n",
    "\n",
    "# 获取最后一个'result'文件夹的数字\n",
    "if result_dirs:\n",
    "    last_result_num = int(result_dirs[-1].replace('result', ''))\n",
    "else:\n",
    "    last_result_num = -1\n",
    "\n",
    "print('last_result_num is :',last_result_num)\n",
    "\n",
    "# 创建新的'result'文件夹\n",
    "new_result_dir = os.path.join(results_dir, f'result{last_result_num + 1}')\n",
    "print('new_result_dir is :',new_result_dir)\n",
    "os.mkdir(new_result_dir)\n",
    "\n",
    "# 在新的'result'文件夹下创建'figure'文件夹和'model'文件夹\n",
    "figure_dir = os.path.join(new_result_dir, 'figure')\n",
    "# model_dir = os.path.join(new_result_dir, 'model')\n",
    "os.mkdir(figure_dir)\n",
    "# os.mkdir(model_dir)"
   ]
  },
  {
   "cell_type": "markdown",
   "metadata": {},
   "source": [
    "光束设置"
   ]
  },
  {
   "cell_type": "code",
   "execution_count": 15,
   "metadata": {},
   "outputs": [
    {
     "name": "stdout",
     "output_type": "stream",
     "text": [
      "beam0 phase is: 0.0976270078546495\n",
      "beam0 omega is: 0.0\n",
      "beam1 phase is: 0.43037873274483895\n",
      "beam1 omega is: 6283.185307179586\n",
      "beam2 phase is: 0.20552675214328775\n",
      "beam2 omega is: 12566.370614359172\n",
      "beam3 phase is: 0.08976636599379373\n",
      "beam3 omega is: 18849.55592153876\n"
     ]
    }
   ],
   "source": [
    "np.random.seed(0)  # 设置随机数生成器的种子\n",
    "class BEAM:\n",
    "    def __init__(self,f = 0.0,beta = 2*np.pi/60,time = 10):\n",
    "        self.wavelength = 1064e-9               #波长 单位m\n",
    "        self.datanum = 1e8                      #数据点数\n",
    "        self.beta = beta                        #扰动信号的振幅\n",
    "        self.mu_0 = 12.566370614e-7             #真空磁导率 单位N*A^(-2)\n",
    "        self.epsilon_0 = 8.854187817e-12        #真空介电常数 单位F*m^(-1)\n",
    "        self.phase = np.random.uniform(-1, 1)   #光束相位\n",
    "        self.omega = 2*np.pi*f                  #扰动信号角频率\n",
    "        self.power = 100                        #光束功率\n",
    "        self.n = 1.45                           #光纤折射率\n",
    "        self.time = time                        #仿真时间\n",
    "        \n",
    "    def calculate_c(self):  #计算光速\n",
    "        return 1/sqrt(self.mu_0*self.epsilon_0)\n",
    "    \n",
    "    def calculate_f(self):   \n",
    "        c = self.calculate_c()   \n",
    "        return c/self.n/self.wavelength\n",
    "    \n",
    "    def calculate_t(self):\n",
    "        return self.time*np.linspace(0, self.datanum - 1, int(self.datanum)) / self.datanum\n",
    "    \n",
    "    def calculate_e(self): #计算光束振幅\n",
    "        f = self.calculate_f()\n",
    "        E = 1/f*sqrt(4*self.power/np.pi/self.n*sqrt(self.mu_0/self.epsilon_0))\n",
    "        return E\n",
    "             \n",
    "    def calculate_i(self): #计算光束强度\n",
    "        E = self.calculate_e()\n",
    "        return sqrt(self.epsilon_0/self.mu_0)*E**2\n",
    "    \n",
    "    def beam_equation(self): #光束方程\n",
    "        t = self.calculate_t()\n",
    "        E = self.calculate_e()\n",
    "        omega = 2*np.pi*self.calculate_f()\n",
    "        equation = E*np.cos(omega*t + self.phase + self.beta*np.sin(self.omega*t))\n",
    "        return equation\n",
    "    \n",
    "        \n",
    "        \n",
    "beam0 = BEAM()\n",
    "beam1 = BEAM(1e3)\n",
    "beam2 = BEAM(2e3)\n",
    "beam3 = BEAM(3e3)\n",
    "\n",
    "print('beam0 phase is:',beam0.phase)\n",
    "print('beam0 omega is:',beam0.omega)\n",
    "print('beam1 phase is:',beam1.phase)\n",
    "print('beam1 omega is:',beam1.omega)\n",
    "print('beam2 phase is:',beam2.phase)\n",
    "print('beam2 omega is:',beam2.omega)\n",
    "print('beam3 phase is:',beam3.phase)\n",
    "print('beam3 omega is:',beam3.omega)\n",
    "# print('time is:',beam0.calculate_t())\n",
    "# print('frequency is:',beam0.calculate_f())\n",
    "# print('c is:',beam0.calculate_c())\n",
    "# print('E is:',beam0.calculate_e())\n",
    "# print('i is:',beam0.calculate_i())\n",
    "# print('eq is:',beam0.beam_equation())\n",
    "    \n"
   ]
  }
 ],
 "metadata": {
  "kernelspec": {
   "display_name": "deepspeed",
   "language": "python",
   "name": "python3"
  },
  "language_info": {
   "codemirror_mode": {
    "name": "ipython",
    "version": 3
   },
   "file_extension": ".py",
   "mimetype": "text/x-python",
   "name": "python",
   "nbconvert_exporter": "python",
   "pygments_lexer": "ipython3",
   "version": "3.9.19"
  }
 },
 "nbformat": 4,
 "nbformat_minor": 2
}
